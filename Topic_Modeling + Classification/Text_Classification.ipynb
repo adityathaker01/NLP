{
 "cells": [
  {
   "cell_type": "markdown",
   "id": "9f0e3751-3ac4-4c32-b0cc-3c49b58dbbe0",
   "metadata": {},
   "source": [
    "# Importing Requirements"
   ]
  },
  {
   "cell_type": "code",
   "execution_count": 112,
   "id": "9306d464-742b-4f82-b238-d2347bb3f88a",
   "metadata": {},
   "outputs": [],
   "source": [
    "import pandas as pd\n",
    "import numpy as np\n",
    "import seaborn as sns\n",
    "import matplotlib.pyplot as plt\n",
    "import nltk \n",
    "import string\n",
    "import re\n",
    "from nltk.corpus import stopwords\n",
    "from sentence_transformers import SentenceTransformer\n",
    "import umap.umap_ as umap\n",
    "import hdbscan\n",
    "import pickle\n",
    "import csv\n",
    "from sklearn.feature_extraction.text import CountVectorizer\n",
    "from sklearn.decomposition import PCA\n",
    "from nltk.stem import PorterStemmer\n",
    "from sklearn.feature_extraction.text import TfidfVectorizer\n",
    "from sklearn.pipeline import Pipeline\n",
    "from sklearn.metrics import classification_report, confusion_matrix\n",
    "from sklearn.model_selection import train_test_split\n",
    "from sklearn.feature_selection import SelectKBest, chi2\n",
    "from sqlite3 import Error\n",
    "from sklearn.ensemble import RandomForestClassifier\n",
    "from sklearn.linear_model import LogisticRegression\n",
    "from sklearn.naive_bayes import MultinomialNB\n",
    "import sqlite3"
   ]
  },
  {
   "cell_type": "code",
   "execution_count": 96,
   "id": "aa1b6532-7f77-4ee8-b346-2e17f4cc1a5a",
   "metadata": {},
   "outputs": [
    {
     "name": "stderr",
     "output_type": "stream",
     "text": [
      "[nltk_data] Downloading package stopwords to\n",
      "[nltk_data]     /home/jupyter/nltk_data...\n",
      "[nltk_data]   Package stopwords is already up-to-date!\n",
      "[nltk_data] Downloading package wordnet to /home/jupyter/nltk_data...\n",
      "[nltk_data]   Package wordnet is already up-to-date!\n",
      "[nltk_data] Downloading package omw-1.4 to /home/jupyter/nltk_data...\n",
      "[nltk_data]   Package omw-1.4 is already up-to-date!\n"
     ]
    },
    {
     "data": {
      "text/plain": [
       "True"
      ]
     },
     "execution_count": 96,
     "metadata": {},
     "output_type": "execute_result"
    }
   ],
   "source": [
    "nltk.download('stopwords')\n",
    "nltk.download('wordnet')\n",
    "nltk.download('omw-1.4')"
   ]
  },
  {
   "cell_type": "markdown",
   "id": "bac1edb9-5c58-4a70-8cb4-75a74710601f",
   "metadata": {},
   "source": [
    "# Fetching Data"
   ]
  },
  {
   "cell_type": "code",
   "execution_count": 97,
   "id": "ca4b0fb8-b604-4c4d-b397-2599c7ce6faf",
   "metadata": {},
   "outputs": [],
   "source": [
    "df = pd.read_csv('article_train.csv', delimiter=\",\", encoding='utf-8',on_bad_lines='skip',index_col = 0)"
   ]
  },
  {
   "cell_type": "code",
   "execution_count": 98,
   "id": "a1e7c6c0-dc92-44b5-abbc-38d45f502342",
   "metadata": {},
   "outputs": [
    {
     "data": {
      "text/html": [
       "<div>\n",
       "<style scoped>\n",
       "    .dataframe tbody tr th:only-of-type {\n",
       "        vertical-align: middle;\n",
       "    }\n",
       "\n",
       "    .dataframe tbody tr th {\n",
       "        vertical-align: top;\n",
       "    }\n",
       "\n",
       "    .dataframe thead th {\n",
       "        text-align: right;\n",
       "    }\n",
       "</style>\n",
       "<table border=\"1\" class=\"dataframe\">\n",
       "  <thead>\n",
       "    <tr style=\"text-align: right;\">\n",
       "      <th></th>\n",
       "      <th>category</th>\n",
       "      <th>content</th>\n",
       "    </tr>\n",
       "  </thead>\n",
       "  <tbody>\n",
       "    <tr>\n",
       "      <th>746</th>\n",
       "      <td>tech</td>\n",
       "      <td>Phone companies are not doing enough to warn c...</td>\n",
       "    </tr>\n",
       "    <tr>\n",
       "      <th>1434</th>\n",
       "      <td>business</td>\n",
       "      <td>The tragedy has left at least 25,000 people de...</td>\n",
       "    </tr>\n",
       "    <tr>\n",
       "      <th>2137</th>\n",
       "      <td>politics</td>\n",
       "      <td>Six government units would also be scrapped un...</td>\n",
       "    </tr>\n",
       "    <tr>\n",
       "      <th>1762</th>\n",
       "      <td>business</td>\n",
       "      <td>Bombardier said restructuring plans drawn up b...</td>\n",
       "    </tr>\n",
       "    <tr>\n",
       "      <th>348</th>\n",
       "      <td>sport</td>\n",
       "      <td>J Crane (Sale Harriers Manchester), S Jones (T...</td>\n",
       "    </tr>\n",
       "  </tbody>\n",
       "</table>\n",
       "</div>"
      ],
      "text/plain": [
       "      category                                            content\n",
       "746       tech  Phone companies are not doing enough to warn c...\n",
       "1434  business  The tragedy has left at least 25,000 people de...\n",
       "2137  politics  Six government units would also be scrapped un...\n",
       "1762  business  Bombardier said restructuring plans drawn up b...\n",
       "348      sport  J Crane (Sale Harriers Manchester), S Jones (T..."
      ]
     },
     "execution_count": 98,
     "metadata": {},
     "output_type": "execute_result"
    }
   ],
   "source": [
    "df.head()"
   ]
  },
  {
   "cell_type": "code",
   "execution_count": 99,
   "id": "ec8dc81d-1280-45eb-816c-ff160a10685f",
   "metadata": {},
   "outputs": [
    {
     "data": {
      "image/png": "[encoded data removed]",
      "text/plain": [
       "<Figure size 640x480 with 1 Axes>"
      ]
     },
     "metadata": {},
     "output_type": "display_data"
    }
   ],
   "source": [
    "df.groupby('category').content.count().plot.bar(ylim=0)\n",
    "plt.show()"
   ]
  },
  {
   "cell_type": "markdown",
   "id": "a6c7af92-8bf9-446f-a9c3-e62447b6f986",
   "metadata": {},
   "source": [
    "# Preparing Data for Training"
   ]
  },
  {
   "cell_type": "markdown",
   "id": "ac59f174-cfc5-4d86-855c-5d158044d62d",
   "metadata": {},
   "source": [
    "### Cleaning Text data"
   ]
  },
  {
   "cell_type": "code",
   "execution_count": 100,
   "id": "0f2acf69-b98f-45b3-8558-e911fbba5b47",
   "metadata": {},
   "outputs": [],
   "source": [
    "def clean_text(text,lemmatize_flag):\n",
    "\n",
    "    stop_words = set(stopwords.words('english'))\n",
    "    wn = nltk.WordNetLemmatizer() \n",
    "\n",
    "    text_split = text.split(\" \")\n",
    "    text_lc = \" \".join([word.lower() for word in text_split if word not in string.punctuation and word not in stop_words]) # remove puntuation ans stopwords\n",
    "\n",
    "    text_rc = re.sub('[0-9]+', '', text_lc)\n",
    "\n",
    "    if lemmatize_flag == True :\n",
    "        \n",
    "        text_split = text_rc.split(\" \")\n",
    "        text = \" \".join([wn.lemmatize(word) for word in text_split if word not in stop_words])  # remove stopwords and lemmetizing\n",
    "    \n",
    "        return text\n",
    "\n",
    "    else:\n",
    "      \n",
    "        return text_rc"
   ]
  },
  {
   "cell_type": "code",
   "execution_count": 101,
   "id": "ce579f5c-0806-42fc-affa-d7c43b338fe1",
   "metadata": {},
   "outputs": [],
   "source": [
    "clean_data = []\n",
    "for text in list(df['content']):\n",
    "    clean = clean_text(str(text),lemmatize_flag = False)\n",
    "    clean_data.append(clean)\n",
    "df['clean_data'] = clean_data"
   ]
  },
  {
   "cell_type": "code",
   "execution_count": 102,
   "id": "eb69fe3e-fdb1-4994-8378-dbeef912c9f0",
   "metadata": {},
   "outputs": [
    {
     "data": {
      "text/html": [
       "<div>\n",
       "<style scoped>\n",
       "    .dataframe tbody tr th:only-of-type {\n",
       "        vertical-align: middle;\n",
       "    }\n",
       "\n",
       "    .dataframe tbody tr th {\n",
       "        vertical-align: top;\n",
       "    }\n",
       "\n",
       "    .dataframe thead th {\n",
       "        text-align: right;\n",
       "    }\n",
       "</style>\n",
       "<table border=\"1\" class=\"dataframe\">\n",
       "  <thead>\n",
       "    <tr style=\"text-align: right;\">\n",
       "      <th></th>\n",
       "      <th>category</th>\n",
       "      <th>content</th>\n",
       "      <th>clean_data</th>\n",
       "    </tr>\n",
       "  </thead>\n",
       "  <tbody>\n",
       "    <tr>\n",
       "      <th>746</th>\n",
       "      <td>tech</td>\n",
       "      <td>Phone companies are not doing enough to warn c...</td>\n",
       "      <td>phone companies enough warn customers internet...</td>\n",
       "    </tr>\n",
       "    <tr>\n",
       "      <th>1434</th>\n",
       "      <td>business</td>\n",
       "      <td>The tragedy has left at least 25,000 people de...</td>\n",
       "      <td>the tragedy left least , people dead, sri lank...</td>\n",
       "    </tr>\n",
       "    <tr>\n",
       "      <th>2137</th>\n",
       "      <td>politics</td>\n",
       "      <td>Six government units would also be scrapped un...</td>\n",
       "      <td>six government units would also scrapped propo...</td>\n",
       "    </tr>\n",
       "    <tr>\n",
       "      <th>1762</th>\n",
       "      <td>business</td>\n",
       "      <td>Bombardier said restructuring plans drawn up b...</td>\n",
       "      <td>bombardier said restructuring plans drawn mr t...</td>\n",
       "    </tr>\n",
       "    <tr>\n",
       "      <th>348</th>\n",
       "      <td>sport</td>\n",
       "      <td>J Crane (Sale Harriers Manchester), S Jones (T...</td>\n",
       "      <td>j crane (sale harriers manchester), s jones (t...</td>\n",
       "    </tr>\n",
       "  </tbody>\n",
       "</table>\n",
       "</div>"
      ],
      "text/plain": [
       "      category                                            content  \\\n",
       "746       tech  Phone companies are not doing enough to warn c...   \n",
       "1434  business  The tragedy has left at least 25,000 people de...   \n",
       "2137  politics  Six government units would also be scrapped un...   \n",
       "1762  business  Bombardier said restructuring plans drawn up b...   \n",
       "348      sport  J Crane (Sale Harriers Manchester), S Jones (T...   \n",
       "\n",
       "                                             clean_data  \n",
       "746   phone companies enough warn customers internet...  \n",
       "1434  the tragedy left least , people dead, sri lank...  \n",
       "2137  six government units would also scrapped propo...  \n",
       "1762  bombardier said restructuring plans drawn mr t...  \n",
       "348   j crane (sale harriers manchester), s jones (t...  "
      ]
     },
     "execution_count": 102,
     "metadata": {},
     "output_type": "execute_result"
    }
   ],
   "source": [
    "df.head()"
   ]
  },
  {
   "cell_type": "markdown",
   "id": "6d2d6425-13c1-45b3-85a6-e5318097dd36",
   "metadata": {},
   "source": [
    "### Data Preparation"
   ]
  },
  {
   "cell_type": "code",
   "execution_count": 103,
   "id": "da183c3b-6fc9-4ef2-851f-f9bb78f1f47d",
   "metadata": {},
   "outputs": [
    {
     "data": {
      "text/plain": [
       "(2113, 13216)"
      ]
     },
     "execution_count": 103,
     "metadata": {},
     "output_type": "execute_result"
    }
   ],
   "source": [
    "vectorizer = TfidfVectorizer(min_df= 3, stop_words=\"english\", sublinear_tf=True, norm='l2', ngram_range=(1, 2))\n",
    "final_features = vectorizer.fit_transform(df['clean_data']).toarray()\n",
    "final_features.shape"
   ]
  },
  {
   "cell_type": "code",
   "execution_count": 104,
   "id": "c8d60ed4-c668-482b-953c-c1c9d9d5717f",
   "metadata": {},
   "outputs": [],
   "source": [
    "X = df['clean_data']\n",
    "Y = df['category']\n",
    "X_train, X_test, y_train, y_test = train_test_split(X, Y, test_size=0.10)"
   ]
  },
  {
   "cell_type": "markdown",
   "id": "7ab16c18-2a3d-4688-b881-a150d79f6be0",
   "metadata": {},
   "source": [
    "# Training"
   ]
  },
  {
   "cell_type": "markdown",
   "id": "aa106fc3-e571-458b-9628-10e1d2fb5099",
   "metadata": {},
   "source": [
    "#### Logistic Regression"
   ]
  },
  {
   "cell_type": "code",
   "execution_count": 105,
   "id": "5a41ccd8-e308-406d-9fa4-147590d09a79",
   "metadata": {},
   "outputs": [],
   "source": [
    "pipeline = Pipeline([('vect', vectorizer),\n",
    "                     ('chi',  SelectKBest(chi2, k=1200)),\n",
    "                     ('clf', LogisticRegression(random_state=0))])\n",
    "\n",
    "model = pipeline.fit(X_train, y_train)"
   ]
  },
  {
   "cell_type": "code",
   "execution_count": 106,
   "id": "65c45a0b-483a-4bb9-955c-c1ab474e251a",
   "metadata": {},
   "outputs": [],
   "source": [
    "with open('LogisticRegression.pickle', 'wb') as f:\n",
    "    pickle.dump(model, f)"
   ]
  },
  {
   "cell_type": "code",
   "execution_count": 107,
   "id": "331730a1-5972-4f77-99da-97fd2293c2a5",
   "metadata": {},
   "outputs": [
    {
     "name": "stdout",
     "output_type": "stream",
     "text": [
      "               precision    recall  f1-score   support\n",
      "\n",
      "     business       0.94      0.98      0.96        50\n",
      "entertainment       0.97      0.94      0.96        34\n",
      "     politics       0.98      0.96      0.97        48\n",
      "        sport       0.95      1.00      0.98        42\n",
      "         tech       0.94      0.89      0.92        38\n",
      "\n",
      "     accuracy                           0.96       212\n",
      "    macro avg       0.96      0.95      0.96       212\n",
      " weighted avg       0.96      0.96      0.96       212\n",
      "\n"
     ]
    }
   ],
   "source": [
    "ytest = np.array(y_test)\n",
    "\n",
    "# confusion matrix and classification report(precision, recall, F1-score)\n",
    "print(classification_report(ytest, model.predict(X_test)))"
   ]
  },
  {
   "cell_type": "code",
   "execution_count": 108,
   "id": "fafbb58a-e676-4719-8f00-309f0d594470",
   "metadata": {},
   "outputs": [
    {
     "name": "stdout",
     "output_type": "stream",
     "text": [
      "0.9575471698113207\n"
     ]
    }
   ],
   "source": [
    "from sklearn.metrics import accuracy_score\n",
    "print(accuracy_score(ytest,model.predict(X_test)))"
   ]
  },
  {
   "cell_type": "markdown",
   "id": "0d6af9fd-b502-42ff-95da-399ee67f4c53",
   "metadata": {},
   "source": [
    "#### Random Forrest"
   ]
  },
  {
   "cell_type": "code",
   "execution_count": 109,
   "id": "a1d8dc9b-46e9-4ee1-8921-577826643eff",
   "metadata": {},
   "outputs": [],
   "source": [
    "pipeline = Pipeline([('vect', vectorizer),\n",
    "                     ('chi',  SelectKBest(chi2, k=1200)),\n",
    "                     ('clf', RandomForestClassifier(max_depth = 10, random_state = 0))])\n",
    "\n",
    "model_2 = pipeline.fit(X_train, y_train)"
   ]
  },
  {
   "cell_type": "code",
   "execution_count": 110,
   "id": "a8335b8f-7157-4f64-856c-25c84e5f8641",
   "metadata": {},
   "outputs": [],
   "source": [
    "with open('RandomForest.pickle', 'wb') as f:\n",
    "    pickle.dump(model_2, f)"
   ]
  },
  {
   "cell_type": "code",
   "execution_count": 111,
   "id": "96394b23-7033-4bc0-a2ac-ec2e44cff048",
   "metadata": {},
   "outputs": [
    {
     "name": "stdout",
     "output_type": "stream",
     "text": [
      "               precision    recall  f1-score   support\n",
      "\n",
      "     business       0.92      0.96      0.94        50\n",
      "entertainment       0.96      0.76      0.85        34\n",
      "     politics       0.98      0.88      0.92        48\n",
      "        sport       0.78      1.00      0.88        42\n",
      "         tech       0.94      0.89      0.92        38\n",
      "\n",
      "     accuracy                           0.91       212\n",
      "    macro avg       0.92      0.90      0.90       212\n",
      " weighted avg       0.92      0.91      0.91       212\n",
      "\n"
     ]
    }
   ],
   "source": [
    "ytest = np.array(y_test)\n",
    "\n",
    "# confusion matrix and classification report(precision, recall, F1-score)\n",
    "print(classification_report(ytest, model_2.predict(X_test)))"
   ]
  },
  {
   "cell_type": "code",
   "execution_count": 116,
   "id": "efe5d69b-e7b2-4f99-8bb6-29b808789d22",
   "metadata": {},
   "outputs": [
    {
     "name": "stdout",
     "output_type": "stream",
     "text": [
      "0.9056603773584906\n"
     ]
    }
   ],
   "source": [
    "print(accuracy_score(ytest,model_2.predict(X_test)))"
   ]
  },
  {
   "cell_type": "markdown",
   "id": "c0213987-0c9e-44f0-a3d5-667d96b0b785",
   "metadata": {},
   "source": [
    "#### Multinomial Naive Bayes"
   ]
  },
  {
   "cell_type": "code",
   "execution_count": 113,
   "id": "bae4d22d-778d-4bef-ae8d-2399cf4f9ac9",
   "metadata": {},
   "outputs": [],
   "source": [
    "pipeline = Pipeline([('vect', vectorizer),\n",
    "                     ('chi',  SelectKBest(chi2, k=1200)),\n",
    "                     ('clf', MultinomialNB())])\n",
    "\n",
    "model_3 = pipeline.fit(X_train, y_train)"
   ]
  },
  {
   "cell_type": "code",
   "execution_count": 114,
   "id": "96b70022-4da3-42da-ad7d-61c572dbe3d2",
   "metadata": {},
   "outputs": [],
   "source": [
    "with open('Multinomial_NB.pickle', 'wb') as f:\n",
    "    pickle.dump(model_3, f)"
   ]
  },
  {
   "cell_type": "code",
   "execution_count": 119,
   "id": "38615bdb-2d06-4a02-8f69-90998bac95c9",
   "metadata": {},
   "outputs": [
    {
     "name": "stdout",
     "output_type": "stream",
     "text": [
      "               precision    recall  f1-score   support\n",
      "\n",
      "     business       0.96      0.98      0.97        50\n",
      "entertainment       1.00      0.94      0.97        34\n",
      "     politics       0.98      0.98      0.98        48\n",
      "        sport       0.98      1.00      0.99        42\n",
      "         tech       0.95      0.95      0.95        38\n",
      "\n",
      "     accuracy                           0.97       212\n",
      "    macro avg       0.97      0.97      0.97       212\n",
      " weighted avg       0.97      0.97      0.97       212\n",
      "\n"
     ]
    }
   ],
   "source": [
    "ytest = np.array(y_test)\n",
    "\n",
    "# confusion matrix and classification report(precision, recall, F1-score)\n",
    "print(classification_report(ytest, model_3.predict(X_test)))"
   ]
  },
  {
   "cell_type": "code",
   "execution_count": 118,
   "id": "3f3a6180-054e-4bf2-bde8-73512a9fb9a1",
   "metadata": {},
   "outputs": [
    {
     "name": "stdout",
     "output_type": "stream",
     "text": [
      "0.9716981132075472\n"
     ]
    }
   ],
   "source": [
    "print(accuracy_score(ytest,model_3.predict(X_test)))"
   ]
  },
  {
   "cell_type": "markdown",
   "id": "e2eab86d-6d7a-4e99-9c9d-ff17b72d2da1",
   "metadata": {},
   "source": [
    "# Prediction on Test data (Using the best Performing Model)"
   ]
  },
  {
   "cell_type": "code",
   "execution_count": 124,
   "id": "146714ab-ccc8-4087-b881-6e6893a6892c",
   "metadata": {},
   "outputs": [],
   "source": [
    "df_test = pd.read_csv('article_test.csv', delimiter=\",\", encoding='utf-8',on_bad_lines='skip',index_col = 0)"
   ]
  },
  {
   "cell_type": "code",
   "execution_count": 125,
   "id": "bedbbf3e-7c4b-4f87-889d-4af5a86f7b0b",
   "metadata": {},
   "outputs": [
    {
     "data": {
      "text/html": [
       "<div>\n",
       "<style scoped>\n",
       "    .dataframe tbody tr th:only-of-type {\n",
       "        vertical-align: middle;\n",
       "    }\n",
       "\n",
       "    .dataframe tbody tr th {\n",
       "        vertical-align: top;\n",
       "    }\n",
       "\n",
       "    .dataframe thead th {\n",
       "        text-align: right;\n",
       "    }\n",
       "</style>\n",
       "<table border=\"1\" class=\"dataframe\">\n",
       "  <thead>\n",
       "    <tr style=\"text-align: right;\">\n",
       "      <th></th>\n",
       "      <th>category</th>\n",
       "      <th>content</th>\n",
       "    </tr>\n",
       "  </thead>\n",
       "  <tbody>\n",
       "    <tr>\n",
       "      <th>1135</th>\n",
       "      <td>entertainment</td>\n",
       "      <td>The independent film festival will feature two...</td>\n",
       "    </tr>\n",
       "    <tr>\n",
       "      <th>2009</th>\n",
       "      <td>politics</td>\n",
       "      <td>The Archbishop of Canterbury said: \"I am pleas...</td>\n",
       "    </tr>\n",
       "    <tr>\n",
       "      <th>1422</th>\n",
       "      <td>business</td>\n",
       "      <td>As well as increasing its dividend, Nestle pla...</td>\n",
       "    </tr>\n",
       "    <tr>\n",
       "      <th>1321</th>\n",
       "      <td>business</td>\n",
       "      <td>Nearly 9,000 business leaders in 104 countries...</td>\n",
       "    </tr>\n",
       "    <tr>\n",
       "      <th>240</th>\n",
       "      <td>sport</td>\n",
       "      <td>I would keep Gerrard.But when asked if Gerrard...</td>\n",
       "    </tr>\n",
       "  </tbody>\n",
       "</table>\n",
       "</div>"
      ],
      "text/plain": [
       "           category                                            content\n",
       "1135  entertainment  The independent film festival will feature two...\n",
       "2009       politics  The Archbishop of Canterbury said: \"I am pleas...\n",
       "1422       business  As well as increasing its dividend, Nestle pla...\n",
       "1321       business  Nearly 9,000 business leaders in 104 countries...\n",
       "240           sport  I would keep Gerrard.But when asked if Gerrard..."
      ]
     },
     "execution_count": 125,
     "metadata": {},
     "output_type": "execute_result"
    }
   ],
   "source": [
    "df_test.head()"
   ]
  },
  {
   "cell_type": "code",
   "execution_count": 126,
   "id": "03b4385f-fdb0-45ca-b7a3-a545ce129b63",
   "metadata": {},
   "outputs": [],
   "source": [
    "y_pred = model_3.predict(list(df_test['content']))"
   ]
  },
  {
   "cell_type": "code",
   "execution_count": 127,
   "id": "22d98dca-9d2c-435e-8129-b746861f9311",
   "metadata": {},
   "outputs": [],
   "source": [
    "y_test_new = list(df_test['category'])"
   ]
  },
  {
   "cell_type": "code",
   "execution_count": 132,
   "id": "7d1657c5-2ba3-4c7d-be78-93683b014ed3",
   "metadata": {},
   "outputs": [
    {
     "name": "stdout",
     "output_type": "stream",
     "text": [
      "               precision    recall  f1-score   support\n",
      "\n",
      "     business       0.96      0.96      0.96        26\n",
      "entertainment       1.00      0.84      0.91        19\n",
      "     politics       0.95      0.90      0.93        21\n",
      "        sport       0.90      1.00      0.95        26\n",
      "         tech       0.95      1.00      0.98        20\n",
      "\n",
      "     accuracy                           0.95       112\n",
      "    macro avg       0.95      0.94      0.94       112\n",
      " weighted avg       0.95      0.95      0.95       112\n",
      "\n"
     ]
    }
   ],
   "source": [
    "print(classification_report(y_test_new, y_pred))"
   ]
  },
  {
   "cell_type": "code",
   "execution_count": 129,
   "id": "4969da04-148a-47e1-b803-f2fdd5e19bf2",
   "metadata": {},
   "outputs": [
    {
     "name": "stdout",
     "output_type": "stream",
     "text": [
      "0.9464285714285714\n"
     ]
    }
   ],
   "source": [
    "print(accuracy_score(y_test_new,y_pred))"
   ]
  },
  {
   "cell_type": "code",
   "execution_count": 130,
   "id": "8b51e6bd-de67-4ce8-bead-d0945baa1c84",
   "metadata": {},
   "outputs": [],
   "source": [
    "df_test['y_pred'] = y_pred"
   ]
  },
  {
   "cell_type": "code",
   "execution_count": 141,
   "id": "6345a717-b0c4-4e0e-83a0-261795d65838",
   "metadata": {},
   "outputs": [
    {
     "data": {
      "text/html": [
       "<div>\n",
       "<style scoped>\n",
       "    .dataframe tbody tr th:only-of-type {\n",
       "        vertical-align: middle;\n",
       "    }\n",
       "\n",
       "    .dataframe tbody tr th {\n",
       "        vertical-align: top;\n",
       "    }\n",
       "\n",
       "    .dataframe thead th {\n",
       "        text-align: right;\n",
       "    }\n",
       "</style>\n",
       "<table border=\"1\" class=\"dataframe\">\n",
       "  <thead>\n",
       "    <tr style=\"text-align: right;\">\n",
       "      <th></th>\n",
       "      <th>category</th>\n",
       "      <th>content</th>\n",
       "      <th>y_pred</th>\n",
       "    </tr>\n",
       "  </thead>\n",
       "  <tbody>\n",
       "    <tr>\n",
       "      <th>1135</th>\n",
       "      <td>entertainment</td>\n",
       "      <td>The independent film festival will feature two...</td>\n",
       "      <td>entertainment</td>\n",
       "    </tr>\n",
       "    <tr>\n",
       "      <th>2009</th>\n",
       "      <td>politics</td>\n",
       "      <td>The Archbishop of Canterbury said: \"I am pleas...</td>\n",
       "      <td>politics</td>\n",
       "    </tr>\n",
       "    <tr>\n",
       "      <th>1422</th>\n",
       "      <td>business</td>\n",
       "      <td>As well as increasing its dividend, Nestle pla...</td>\n",
       "      <td>business</td>\n",
       "    </tr>\n",
       "    <tr>\n",
       "      <th>1321</th>\n",
       "      <td>business</td>\n",
       "      <td>Nearly 9,000 business leaders in 104 countries...</td>\n",
       "      <td>business</td>\n",
       "    </tr>\n",
       "    <tr>\n",
       "      <th>240</th>\n",
       "      <td>sport</td>\n",
       "      <td>I would keep Gerrard.But when asked if Gerrard...</td>\n",
       "      <td>sport</td>\n",
       "    </tr>\n",
       "    <tr>\n",
       "      <th>...</th>\n",
       "      <td>...</td>\n",
       "      <td>...</td>\n",
       "      <td>...</td>\n",
       "    </tr>\n",
       "    <tr>\n",
       "      <th>120</th>\n",
       "      <td>sport</td>\n",
       "      <td>He was linked with the manager's job at Oldham...</td>\n",
       "      <td>sport</td>\n",
       "    </tr>\n",
       "    <tr>\n",
       "      <th>864</th>\n",
       "      <td>tech</td>\n",
       "      <td>The US movie industry has launched legal actio...</td>\n",
       "      <td>tech</td>\n",
       "    </tr>\n",
       "    <tr>\n",
       "      <th>438</th>\n",
       "      <td>sport</td>\n",
       "      <td>But Williams said: \"I want to make it clear th...</td>\n",
       "      <td>sport</td>\n",
       "    </tr>\n",
       "    <tr>\n",
       "      <th>1111</th>\n",
       "      <td>entertainment</td>\n",
       "      <td>The producers behind the Lord of the Rings mus...</td>\n",
       "      <td>entertainment</td>\n",
       "    </tr>\n",
       "    <tr>\n",
       "      <th>366</th>\n",
       "      <td>sport</td>\n",
       "      <td>Flanker Colin Charvis is unlikely to play any ...</td>\n",
       "      <td>sport</td>\n",
       "    </tr>\n",
       "  </tbody>\n",
       "</table>\n",
       "<p>112 rows × 3 columns</p>\n",
       "</div>"
      ],
      "text/plain": [
       "           category                                            content  \\\n",
       "1135  entertainment  The independent film festival will feature two...   \n",
       "2009       politics  The Archbishop of Canterbury said: \"I am pleas...   \n",
       "1422       business  As well as increasing its dividend, Nestle pla...   \n",
       "1321       business  Nearly 9,000 business leaders in 104 countries...   \n",
       "240           sport  I would keep Gerrard.But when asked if Gerrard...   \n",
       "...             ...                                                ...   \n",
       "120           sport  He was linked with the manager's job at Oldham...   \n",
       "864            tech  The US movie industry has launched legal actio...   \n",
       "438           sport  But Williams said: \"I want to make it clear th...   \n",
       "1111  entertainment  The producers behind the Lord of the Rings mus...   \n",
       "366           sport  Flanker Colin Charvis is unlikely to play any ...   \n",
       "\n",
       "             y_pred  \n",
       "1135  entertainment  \n",
       "2009       politics  \n",
       "1422       business  \n",
       "1321       business  \n",
       "240           sport  \n",
       "...             ...  \n",
       "120           sport  \n",
       "864            tech  \n",
       "438           sport  \n",
       "1111  entertainment  \n",
       "366           sport  \n",
       "\n",
       "[112 rows x 3 columns]"
      ]
     },
     "execution_count": 141,
     "metadata": {},
     "output_type": "execute_result"
    }
   ],
   "source": [
    "df_test"
   ]
  },
  {
   "cell_type": "markdown",
   "id": "0c7f4405-b42c-440d-9b48-5a455affb395",
   "metadata": {},
   "source": [
    "#### Comparting on test data with Clustering Model"
   ]
  },
  {
   "cell_type": "code",
   "execution_count": 139,
   "id": "dcd9c58d-a702-44a8-8b85-39f9117db0a3",
   "metadata": {},
   "outputs": [],
   "source": [
    "def cluster_prediction(text):\n",
    "    \n",
    "    model = SentenceTransformer('sentence-transformers/all-mpnet-base-v2')\n",
    "    \n",
    "    embeddings = list(model.encode([text]))\n",
    "    \n",
    "    with open('embeddings_model' , 'rb') as f:\n",
    "        \n",
    "        embeddings_model = pickle.load(f)\n",
    "\n",
    "    # Dimentionality Reduction (UMAP)\n",
    "    processed_embeddings = embeddings_model.transform(embeddings)\n",
    "    \n",
    "    with open('hdbscan_model' , 'rb') as f:\n",
    "        \n",
    "        cluster = pickle.load(f)\n",
    "\n",
    "    topics = set(list(cluster.labels_))\n",
    "\n",
    "    test_labels, strengths = hdbscan.approximate_predict(cluster, processed_embeddings)\n",
    "\n",
    "    topic = test_labels[0]\n",
    "\n",
    "    df = pd.read_csv('topic_info.csv')\n",
    "\n",
    "    #print(df)\n",
    "    \n",
    "    df = df[df['Topic']==topic]\n",
    "\n",
    "    description = list(df['topic_description'])[0]\n",
    "\n",
    "    return description"
   ]
  },
  {
   "cell_type": "code",
   "execution_count": 150,
   "id": "3b793a0b-b16a-464d-9817-019988786205",
   "metadata": {},
   "outputs": [],
   "source": [
    "cluster_keywords = []\n",
    "for i in list(df_test['content']):\n",
    "    text = clean_text(i,False)\n",
    "    cluster_keywords.append(cluster_prediction(text))"
   ]
  },
  {
   "cell_type": "code",
   "execution_count": 151,
   "id": "ded52700-d6c4-4f9c-92f5-c1394bc1d22b",
   "metadata": {},
   "outputs": [],
   "source": [
    "df_test['cluster_keywords'] = cluster_keywords"
   ]
  },
  {
   "cell_type": "code",
   "execution_count": 145,
   "id": "d99fe900-8dcf-430e-a4ec-a56c17180ac9",
   "metadata": {},
   "outputs": [],
   "source": [
    "df_test.to_csv('test_data_comparision.csv')"
   ]
  },
  {
   "cell_type": "code",
   "execution_count": 155,
   "id": "3dc6af50-a7de-4899-80ce-a820652363b2",
   "metadata": {},
   "outputs": [
    {
     "data": {
      "text/plain": [
       "Outliers                                                                  53\n",
       "win england best film second cup play ireland won game                    33\n",
       "labour blair party election brown howard government lord minister tory    13\n",
       "search net users software tv computer microsoft service mail web           8\n",
       "yukos bank economy growth economic shares china company firm oil           5\n",
       "Name: cluster_keywords, dtype: int64"
      ]
     },
     "execution_count": 155,
     "metadata": {},
     "output_type": "execute_result"
    }
   ],
   "source": [
    "df_test['cluster_keywords'].value_counts()"
   ]
  },
  {
   "cell_type": "code",
   "execution_count": 159,
   "id": "4fdfea50-d80b-4fdd-bb2f-90c3673bd116",
   "metadata": {},
   "outputs": [
    {
     "data": {
      "text/html": [
       "<div>\n",
       "<style scoped>\n",
       "    .dataframe tbody tr th:only-of-type {\n",
       "        vertical-align: middle;\n",
       "    }\n",
       "\n",
       "    .dataframe tbody tr th {\n",
       "        vertical-align: top;\n",
       "    }\n",
       "\n",
       "    .dataframe thead th {\n",
       "        text-align: right;\n",
       "    }\n",
       "</style>\n",
       "<table border=\"1\" class=\"dataframe\">\n",
       "  <thead>\n",
       "    <tr style=\"text-align: right;\">\n",
       "      <th></th>\n",
       "      <th>category</th>\n",
       "      <th>content</th>\n",
       "      <th>y_pred</th>\n",
       "      <th>cluster_keywords</th>\n",
       "    </tr>\n",
       "  </thead>\n",
       "  <tbody>\n",
       "    <tr>\n",
       "      <th>1135</th>\n",
       "      <td>entertainment</td>\n",
       "      <td>The independent film festival will feature two...</td>\n",
       "      <td>entertainment</td>\n",
       "      <td>win england best film second cup play ireland ...</td>\n",
       "    </tr>\n",
       "    <tr>\n",
       "      <th>2009</th>\n",
       "      <td>politics</td>\n",
       "      <td>The Archbishop of Canterbury said: \"I am pleas...</td>\n",
       "      <td>politics</td>\n",
       "      <td>Outliers</td>\n",
       "    </tr>\n",
       "    <tr>\n",
       "      <th>1422</th>\n",
       "      <td>business</td>\n",
       "      <td>As well as increasing its dividend, Nestle pla...</td>\n",
       "      <td>business</td>\n",
       "      <td>Outliers</td>\n",
       "    </tr>\n",
       "    <tr>\n",
       "      <th>1321</th>\n",
       "      <td>business</td>\n",
       "      <td>Nearly 9,000 business leaders in 104 countries...</td>\n",
       "      <td>business</td>\n",
       "      <td>Outliers</td>\n",
       "    </tr>\n",
       "    <tr>\n",
       "      <th>240</th>\n",
       "      <td>sport</td>\n",
       "      <td>I would keep Gerrard.But when asked if Gerrard...</td>\n",
       "      <td>sport</td>\n",
       "      <td>Outliers</td>\n",
       "    </tr>\n",
       "    <tr>\n",
       "      <th>...</th>\n",
       "      <td>...</td>\n",
       "      <td>...</td>\n",
       "      <td>...</td>\n",
       "      <td>...</td>\n",
       "    </tr>\n",
       "    <tr>\n",
       "      <th>120</th>\n",
       "      <td>sport</td>\n",
       "      <td>He was linked with the manager's job at Oldham...</td>\n",
       "      <td>sport</td>\n",
       "      <td>win england best film second cup play ireland ...</td>\n",
       "    </tr>\n",
       "    <tr>\n",
       "      <th>864</th>\n",
       "      <td>tech</td>\n",
       "      <td>The US movie industry has launched legal actio...</td>\n",
       "      <td>tech</td>\n",
       "      <td>Outliers</td>\n",
       "    </tr>\n",
       "    <tr>\n",
       "      <th>438</th>\n",
       "      <td>sport</td>\n",
       "      <td>But Williams said: \"I want to make it clear th...</td>\n",
       "      <td>sport</td>\n",
       "      <td>Outliers</td>\n",
       "    </tr>\n",
       "    <tr>\n",
       "      <th>1111</th>\n",
       "      <td>entertainment</td>\n",
       "      <td>The producers behind the Lord of the Rings mus...</td>\n",
       "      <td>entertainment</td>\n",
       "      <td>win england best film second cup play ireland ...</td>\n",
       "    </tr>\n",
       "    <tr>\n",
       "      <th>366</th>\n",
       "      <td>sport</td>\n",
       "      <td>Flanker Colin Charvis is unlikely to play any ...</td>\n",
       "      <td>sport</td>\n",
       "      <td>win england best film second cup play ireland ...</td>\n",
       "    </tr>\n",
       "  </tbody>\n",
       "</table>\n",
       "<p>112 rows × 4 columns</p>\n",
       "</div>"
      ],
      "text/plain": [
       "           category                                            content  \\\n",
       "1135  entertainment  The independent film festival will feature two...   \n",
       "2009       politics  The Archbishop of Canterbury said: \"I am pleas...   \n",
       "1422       business  As well as increasing its dividend, Nestle pla...   \n",
       "1321       business  Nearly 9,000 business leaders in 104 countries...   \n",
       "240           sport  I would keep Gerrard.But when asked if Gerrard...   \n",
       "...             ...                                                ...   \n",
       "120           sport  He was linked with the manager's job at Oldham...   \n",
       "864            tech  The US movie industry has launched legal actio...   \n",
       "438           sport  But Williams said: \"I want to make it clear th...   \n",
       "1111  entertainment  The producers behind the Lord of the Rings mus...   \n",
       "366           sport  Flanker Colin Charvis is unlikely to play any ...   \n",
       "\n",
       "             y_pred                                   cluster_keywords  \n",
       "1135  entertainment  win england best film second cup play ireland ...  \n",
       "2009       politics                                           Outliers  \n",
       "1422       business                                           Outliers  \n",
       "1321       business                                           Outliers  \n",
       "240           sport                                           Outliers  \n",
       "...             ...                                                ...  \n",
       "120           sport  win england best film second cup play ireland ...  \n",
       "864            tech                                           Outliers  \n",
       "438           sport                                           Outliers  \n",
       "1111  entertainment  win england best film second cup play ireland ...  \n",
       "366           sport  win england best film second cup play ireland ...  \n",
       "\n",
       "[112 rows x 4 columns]"
      ]
     },
     "execution_count": 159,
     "metadata": {},
     "output_type": "execute_result"
    }
   ],
   "source": [
    "df_test"
   ]
  },
  {
   "cell_type": "markdown",
   "id": "53d7b87c-a7bb-4e97-8dd5-0da4c4f46470",
   "metadata": {},
   "source": [
    "It Can be seen that a large portion of data has been predicted into the Outlier cluster, It is similar behaviour to the clustering seen in the \"Topic_Modeling.ipynb\" Notebook. \n",
    "\n",
    "It is to be observed that the for that are predicted into clusters other than Outliers seem to match the category."
   ]
  }
 ],
 "metadata": {
  "environment": {
   "kernel": "python3",
   "name": "common-cu110.m98",
   "type": "gcloud",
   "uri": "gcr.io/deeplearning-platform-release/base-cu110:m98"
  },
  "kernelspec": {
   "display_name": "Python 3",
   "language": "python",
   "name": "python3"
  },
  "language_info": {
   "codemirror_mode": {
    "name": "ipython",
    "version": 3
   },
   "file_extension": ".py",
   "mimetype": "text/x-python",
   "name": "python",
   "nbconvert_exporter": "python",
   "pygments_lexer": "ipython3",
   "version": "3.7.12"
  }
 },
 "nbformat": 4,
 "nbformat_minor": 5
}
