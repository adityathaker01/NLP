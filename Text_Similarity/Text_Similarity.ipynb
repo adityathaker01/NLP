{
 "cells": [
  {
   "cell_type": "markdown",
   "metadata": {
    "id": "EJkDSZFwPLlh"
   },
   "source": [
    "# **Text similarity with different embeddings**\n"
   ]
  },
  {
   "cell_type": "markdown",
   "metadata": {
    "id": "NipVC8_IzNfU"
   },
   "source": [
    "Text Similarity is one of the essential techniques of NLP which is being used \n",
    "to find the closeness between two chunks of text by it’s meaning or by surface.\n",
    "In order to perform such tasks, various word embedding techniques are being used i.e., Bag of Words, TF-IDF, word2vec to encode the text data. This will allow you to perform NLP operations such as finding similarity between two sentences"
   ]
  },
  {
   "cell_type": "markdown",
   "metadata": {
    "id": "0zDfGYzW3l57"
   },
   "source": [
    "## **Similarity Measures**"
   ]
  },
  {
   "cell_type": "markdown",
   "metadata": {
    "id": "Kb5kpgKh3oNG"
   },
   "source": [
    "### **1. Jaccard Index**\n",
    "\n",
    "Jaccard index, also known as Jaccard similarity coefficient, treats the data objects like sets. It is defined as the size of the intersection of two sets divided by the size of the union. \n",
    "\n",
    "Example:\n",
    "\n",
    "Sentence 1: The bottle is empty.\n",
    "\n",
    "Sentence 2: There is nothing in the bottle.\n",
    "\n",
    "To calculate the similarity using Jaccard similarity, we must first perform text normalization to reduce words their roots/lemmas.\n",
    "\n",
    "In the above example,\n",
    "\n",
    "Size of the intersection of these two sentences: 3\n",
    "\n",
    "Size of the union of these two sentences: 1+3+3 = 7\n",
    "\n",
    "Using the Jaccard index, we get a similarity score of 3/7 = 0.42"
   ]
  },
  {
   "cell_type": "code",
   "execution_count": 1,
   "metadata": {
    "id": "MKzFw0PkPTnB"
   },
   "outputs": [],
   "source": [
    "def jaccard_similarity(x,y):\n",
    "    intersection = len(set.intersection(*[set(x), set(y)]))\n",
    "    union = len(set.union(*[set(x), set(y)]))\n",
    "    return intersection/float(union)"
   ]
  },
  {
   "cell_type": "code",
   "execution_count": 2,
   "metadata": {
    "colab": {
     "base_uri": "https://localhost:8080/"
    },
    "id": "2mgG_QDp5rPb",
    "outputId": "63edf324-4ff9-45a7-ad88-d09e174d81a8"
   },
   "outputs": [
    {
     "data": {
      "text/plain": [
       "0.8"
      ]
     },
     "execution_count": 2,
     "metadata": {},
     "output_type": "execute_result"
    }
   ],
   "source": [
    "sentences = [\"The bottle is empty\",\"The bottle is not empty\"]\n",
    "sentences = [sent.lower().split(\" \") for sent in sentences]\n",
    "jaccard_similarity(sentences[0], sentences[1])"
   ]
  },
  {
   "cell_type": "markdown",
   "metadata": {
    "id": "w9MNj1Fg54mP"
   },
   "source": [
    "### **2. Euclidean Distance**\n",
    "\n",
    "Euclidean distance, or L2 norm, is the most commonly used form of the Minkowski distance. Generally speaking, when people talk about distance, they refer to Euclidean distance. It uses the Pythagoras theorem to calculate the distance between two points|"
   ]
  },
  {
   "cell_type": "code",
   "execution_count": 10,
   "metadata": {
    "id": "5kyAQxcN5-tH"
   },
   "outputs": [],
   "source": [
    "from math import sqrt\n",
    "def euclidean_distance(x,y):\n",
    "    \"\"\" return euclidean distance between two lists \"\"\"\n",
    "    return sqrt(sum(pow(a-b,2) for a, b in zip(x, y)))"
   ]
  },
  {
   "cell_type": "code",
   "execution_count": 11,
   "metadata": {
    "colab": {
     "base_uri": "https://localhost:8080/"
    },
    "id": "Dgwq7n6pAFQe",
    "outputId": "b338f1c6-aa6e-4804-acfc-95e76df2f1d4"
   },
   "outputs": [
    {
     "data": {
      "text/plain": [
       "1.0"
      ]
     },
     "execution_count": 11,
     "metadata": {},
     "output_type": "execute_result"
    }
   ],
   "source": [
    "x = [1,2,3]#Representation of vectors\n",
    "y = [1,2,4]   #Representation of vectors\n",
    "euclidean_distance(x,y)"
   ]
  },
  {
   "cell_type": "markdown",
   "metadata": {
    "id": "TdJjMLCoCEIG"
   },
   "source": [
    "The distances can vary from 0 to infinity, we need to use some way to normalize them to the range of 0 to 1.\n",
    "Although we have our typical normalization formula that uses mean and standard deviation, it is sensitive to outliers. That means if there are a few extremely large distances, every other distance will become smaller as a consequence of the normalization operation."
   ]
  },
  {
   "cell_type": "code",
   "execution_count": 12,
   "metadata": {
    "colab": {
     "base_uri": "https://localhost:8080/"
    },
    "id": "NXXuvR-vCcTP",
    "outputId": "587f1fce-512c-444e-a130-76bc02c706f0"
   },
   "outputs": [
    {
     "data": {
      "text/plain": [
       "0.00015455440504595275"
      ]
     },
     "execution_count": 12,
     "metadata": {},
     "output_type": "execute_result"
    }
   ],
   "source": [
    "from math import exp\n",
    "def distance_to_similarity(distance):\n",
    "    return 1/exp(distance)\n",
    "\n",
    "distance_to_similarity(8.774964387392123)"
   ]
  },
  {
   "cell_type": "code",
   "execution_count": 13,
   "metadata": {
    "id": "sBkdQyjKDXGN"
   },
   "outputs": [],
   "source": [
    "def euclidean_distance_normalised(x,y):\n",
    "    \"\"\" return euclidean distance between two lists \"\"\"\n",
    "    euclidean_distance = sqrt(sum(pow(a-b,2) for a, b in zip(x, y)))\n",
    "    return 1/exp(euclidean_distance)"
   ]
  },
  {
   "cell_type": "code",
   "execution_count": 14,
   "metadata": {
    "colab": {
     "base_uri": "https://localhost:8080/"
    },
    "id": "fCTM0vJgDqkO",
    "outputId": "aecc857c-22fd-4b5a-e450-d7b011e623b1"
   },
   "outputs": [
    {
     "data": {
      "text/plain": [
       "0.36787944117144233"
      ]
     },
     "execution_count": 14,
     "metadata": {},
     "output_type": "execute_result"
    }
   ],
   "source": [
    "x = [1,2,3]   #Representation of vectors\n",
    "y = [1,2,4] #Representation of vectors\n",
    "euclidean_distance_normalised(x,y)"
   ]
  },
  {
   "cell_type": "markdown",
   "metadata": {
    "id": "YST0k7zTEBWk"
   },
   "source": [
    "### **3. Cosine Similarity**\n",
    "\n",
    "Cosine Similarity computes the similarity of two vectors as the cosine of the angle between two vectors. It determines whether two vectors are pointing in roughly the same direction. So if the angle between the vectors is 0 degrees, then the cosine similarity is 1."
   ]
  },
  {
   "cell_type": "code",
   "execution_count": 15,
   "metadata": {
    "id": "LpdqRcYbEN1z"
   },
   "outputs": [],
   "source": [
    "def cos_similarity(x,y):\n",
    "    \"\"\" return cosine similarity between two lists \"\"\"\n",
    " \n",
    "    numerator = sum(a*b for a,b in zip(x,y))\n",
    "    denominator = round(sqrt(sum([a*a for a in x])),3) * round(sqrt(sum([a*a for a in y])),3)\n",
    "    return round(numerator/float(denominator),3)"
   ]
  },
  {
   "cell_type": "code",
   "execution_count": 16,
   "metadata": {
    "colab": {
     "base_uri": "https://localhost:8080/"
    },
    "id": "flITnjUTFLKu",
    "outputId": "8f5a883c-5aae-4068-cc4a-7b6107225451"
   },
   "outputs": [
    {
     "data": {
      "text/plain": [
       "0.991"
      ]
     },
     "execution_count": 16,
     "metadata": {},
     "output_type": "execute_result"
    }
   ],
   "source": [
    "x = [1,2,3]\n",
    "y = [1,2,4]\n",
    "cos_similarity(x,y)"
   ]
  },
  {
   "cell_type": "markdown",
   "metadata": {
    "id": "jiMxurp9-rOO"
   },
   "source": [
    "# **Different Similirity Measure with embeddings**"
   ]
  },
  {
   "cell_type": "code",
   "execution_count": 34,
   "metadata": {
    "id": "HCWZWUlgFTuF"
   },
   "outputs": [],
   "source": [
    "import seaborn as sns\n",
    "import pandas as pd\n",
    "import matplotlib.pyplot as plt"
   ]
  },
  {
   "cell_type": "code",
   "execution_count": 35,
   "metadata": {
    "id": "yOTvaLpL-4p_"
   },
   "outputs": [],
   "source": [
    "#Data\n",
    "sentences = [\n",
    "#Crypto\n",
    "'Investors unfazed by correction as crypto funds see $154 million inflows',\n",
    "'Bitcoin, Ethereum prices continue descent, but crypto funds see inflows',\n",
    " \n",
    "#Inflation\n",
    "'The surge in euro area inflation during the pandemic: transitory but with upside risks',\n",
    "\"Inflation: why it's temporary and raising interest rates will do more harm than good\",\n",
    " \n",
    "#common\n",
    "'Will Cryptocurrency Protect Against Inflation?']\n",
    "\n",
    "labels = [sentence[:25] for sentence in sentences]"
   ]
  },
  {
   "cell_type": "code",
   "execution_count": 18,
   "metadata": {
    "id": "hQr1IarKEHC1"
   },
   "outputs": [],
   "source": [
    "def create_heatmap(similarity):\n",
    "    df = pd.DataFrame(similarity)\n",
    "    df.columns = labels\n",
    "    df.index = labels\n",
    "    fig, ax = plt.subplots(figsize=(5,5))\n",
    "    sns.heatmap(df)"
   ]
  },
  {
   "cell_type": "code",
   "execution_count": 21,
   "metadata": {
    "colab": {
     "base_uri": "https://localhost:8080/"
    },
    "id": "VH71bC7N-ymD",
    "outputId": "a6d6c15b-c674-471e-8e09-0e14c21edeea"
   },
   "outputs": [
    {
     "data": {
      "text/plain": [
       "array([[1.        , 0.38138504, 0.        , 0.        , 0.        ],\n",
       "       [0.38138504, 1.        , 0.07905694, 0.        , 0.        ],\n",
       "       [0.        , 0.07905694, 1.        , 0.06681531, 0.1118034 ],\n",
       "       [0.        , 0.        , 0.06681531, 1.        , 0.23904572],\n",
       "       [0.        , 0.        , 0.1118034 , 0.23904572, 1.        ]])"
      ]
     },
     "execution_count": 21,
     "metadata": {},
     "output_type": "execute_result"
    }
   ],
   "source": [
    "from sklearn.metrics.pairwise import cosine_similarity\n",
    "from sklearn.feature_extraction.text import CountVectorizer\n",
    "\n",
    "vectorizer = CountVectorizer()\n",
    "X = vectorizer.fit_transform(sentences)\n",
    "arr = X.toarray()\n",
    "\n",
    "cosine_similarity(arr)"
   ]
  },
  {
   "cell_type": "code",
   "execution_count": 23,
   "metadata": {
    "colab": {
     "base_uri": "https://localhost:8080/",
     "height": 441
    },
    "id": "vEr1UJu__3dz",
    "outputId": "79831c12-a146-4c80-ca06-0181f5563523"
   },
   "outputs": [
    {
     "data": {
      "image/png": "[encoded data removed]",
      "text/plain": [
       "<Figure size 360x360 with 2 Axes>"
      ]
     },
     "metadata": {
      "needs_background": "light"
     },
     "output_type": "display_data"
    }
   ],
   "source": [
    "create_heatmap(cosine_similarity(arr))"
   ]
  },
  {
   "cell_type": "code",
   "execution_count": 31,
   "metadata": {
    "id": "gewjPJJfetWD"
   },
   "outputs": [],
   "source": [
    "from sklearn.metrics.pairwise import euclidean_distances\n",
    "euclidean_arr = euclidean_distances(arr)\n",
    "nrm_euclidean_distances = [[1/exp(i) for i in euclidean_arr[x]] for x in range(len(euclidean_arr))]"
   ]
  },
  {
   "cell_type": "code",
   "execution_count": 32,
   "metadata": {
    "colab": {
     "base_uri": "https://localhost:8080/"
    },
    "id": "b5RcYWbFhPZv",
    "outputId": "63787c8f-23d6-47db-a41f-ca42e561224b"
   },
   "outputs": [
    {
     "data": {
      "text/plain": [
       "[[1.0,\n",
       "  0.02717246117223556,\n",
       "  0.005537830714382472,\n",
       "  0.006737946999085467,\n",
       "  0.018315638888734182],\n",
       " [0.02717246117223556,\n",
       "  1.0,\n",
       "  0.007454186295369829,\n",
       "  0.007454186295369829,\n",
       "  0.020796234419099814],\n",
       " [0.005537830714382472,\n",
       "  0.007454186295369829,\n",
       "  1.0,\n",
       "  0.005034190088132767,\n",
       "  0.012792465124422179],\n",
       " [0.006737946999085467,\n",
       "  0.007454186295369829,\n",
       "  0.005034190088132767,\n",
       "  1.0,\n",
       "  0.020796234419099814],\n",
       " [0.018315638888734182,\n",
       "  0.020796234419099814,\n",
       "  0.012792465124422179,\n",
       "  0.020796234419099814,\n",
       "  1.0]]"
      ]
     },
     "execution_count": 32,
     "metadata": {},
     "output_type": "execute_result"
    }
   ],
   "source": [
    "nrm_euclidean_distances"
   ]
  },
  {
   "cell_type": "code",
   "execution_count": 33,
   "metadata": {
    "colab": {
     "base_uri": "https://localhost:8080/",
     "height": 441
    },
    "id": "BFaC7e08hvR9",
    "outputId": "a92c2bdb-6547-46a0-b1aa-951ba12eec5d"
   },
   "outputs": [
    {
     "data": {
      "image/png": "[encoded data removed]",
      "text/plain": [
       "<Figure size 360x360 with 2 Axes>"
      ]
     },
     "metadata": {
      "needs_background": "light"
     },
     "output_type": "display_data"
    }
   ],
   "source": [
    "create_heatmap(nrm_euclidean_distances)"
   ]
  }
 ],
 "metadata": {
  "colab": {
   "provenance": []
  },
  "environment": {
   "kernel": "python3",
   "name": "common-cu110.m98",
   "type": "gcloud",
   "uri": "gcr.io/deeplearning-platform-release/base-cu110:m98"
  },
  "kernelspec": {
   "display_name": "Python 3",
   "language": "python",
   "name": "python3"
  },
  "language_info": {
   "codemirror_mode": {
    "name": "ipython",
    "version": 3
   },
   "file_extension": ".py",
   "mimetype": "text/x-python",
   "name": "python",
   "nbconvert_exporter": "python",
   "pygments_lexer": "ipython3",
   "version": "3.7.12"
  }
 },
 "nbformat": 4,
 "nbformat_minor": 4
}
